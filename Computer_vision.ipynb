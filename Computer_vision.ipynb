{
  "nbformat": 4,
  "nbformat_minor": 0,
  "metadata": {
    "colab": {
      "provenance": [],
      "gpuType": "T4",
      "authorship_tag": "ABX9TyO6bY4QV3dWuEhx7pZ6Aioz",
      "include_colab_link": true
    },
    "kernelspec": {
      "name": "python3",
      "display_name": "Python 3"
    },
    "language_info": {
      "name": "python"
    },
    "accelerator": "GPU"
  },
  "cells": [
    {
      "cell_type": "markdown",
      "metadata": {
        "id": "view-in-github",
        "colab_type": "text"
      },
      "source": [
        "<a href=\"https://colab.research.google.com/github/ayushpatra11/CV_CW/blob/main/Computer_vision.ipynb\" target=\"_parent\"><img src=\"https://colab.research.google.com/assets/colab-badge.svg\" alt=\"Open In Colab\"/></a>"
      ]
    },
    {
      "cell_type": "code",
      "execution_count": 1,
      "metadata": {
        "colab": {
          "base_uri": "https://localhost:8080/"
        },
        "id": "FVi1OFCcWxN8",
        "outputId": "dae75197-a3be-4473-a529-96130eb562de"
      },
      "outputs": [
        {
          "output_type": "stream",
          "name": "stdout",
          "text": [
            "Requirement already satisfied: opencv-python in /usr/local/lib/python3.11/dist-packages (4.11.0.86)\n",
            "Requirement already satisfied: numpy in /usr/local/lib/python3.11/dist-packages (2.0.2)\n",
            "Requirement already satisfied: scikit-learn in /usr/local/lib/python3.11/dist-packages (1.6.1)\n",
            "Requirement already satisfied: matplotlib in /usr/local/lib/python3.11/dist-packages (3.10.0)\n",
            "Requirement already satisfied: scipy>=1.6.0 in /usr/local/lib/python3.11/dist-packages (from scikit-learn) (1.15.2)\n",
            "Requirement already satisfied: joblib>=1.2.0 in /usr/local/lib/python3.11/dist-packages (from scikit-learn) (1.4.2)\n",
            "Requirement already satisfied: threadpoolctl>=3.1.0 in /usr/local/lib/python3.11/dist-packages (from scikit-learn) (3.6.0)\n",
            "Requirement already satisfied: contourpy>=1.0.1 in /usr/local/lib/python3.11/dist-packages (from matplotlib) (1.3.2)\n",
            "Requirement already satisfied: cycler>=0.10 in /usr/local/lib/python3.11/dist-packages (from matplotlib) (0.12.1)\n",
            "Requirement already satisfied: fonttools>=4.22.0 in /usr/local/lib/python3.11/dist-packages (from matplotlib) (4.57.0)\n",
            "Requirement already satisfied: kiwisolver>=1.3.1 in /usr/local/lib/python3.11/dist-packages (from matplotlib) (1.4.8)\n",
            "Requirement already satisfied: packaging>=20.0 in /usr/local/lib/python3.11/dist-packages (from matplotlib) (24.2)\n",
            "Requirement already satisfied: pillow>=8 in /usr/local/lib/python3.11/dist-packages (from matplotlib) (11.2.1)\n",
            "Requirement already satisfied: pyparsing>=2.3.1 in /usr/local/lib/python3.11/dist-packages (from matplotlib) (3.2.3)\n",
            "Requirement already satisfied: python-dateutil>=2.7 in /usr/local/lib/python3.11/dist-packages (from matplotlib) (2.9.0.post0)\n",
            "Requirement already satisfied: six>=1.5 in /usr/local/lib/python3.11/dist-packages (from python-dateutil>=2.7->matplotlib) (1.17.0)\n"
          ]
        }
      ],
      "source": [
        "pip install opencv-python numpy scikit-learn matplotlib"
      ]
    },
    {
      "cell_type": "code",
      "source": [
        "import numpy as np\n",
        "import cv2 as cv\n",
        "from sklearn.cluster import KMeans\n",
        "from sklearn.svm import SVC\n",
        "from sklearn.metrics import classification_report, accuracy_score\n",
        "from tensorflow.keras.datasets import cifar10, cifar100\n",
        "\n",
        "(x_train, y_train), (x_test, y_test) = cifar10.load_data()\n",
        "\n",
        "def resize_images(images, target_size=(224, 224)):\n",
        "  return np.array([cv.resize(img, target_size) for img in images])\n",
        "\n",
        "x_train_resized = resize_images(x_train)\n",
        "x_test_resized = resize_images(x_test)\n",
        "\n",
        "x_train_resized = x_train_resized[:5000]\n",
        "x_test_resized = x_test_resized[:200]\n",
        "y_train = y_train[:5000].flatten()\n",
        "y_test = y_test[:200].flatten()\n"
      ],
      "metadata": {
        "id": "3zSwo_2dXc6C"
      },
      "execution_count": null,
      "outputs": []
    },
    {
      "cell_type": "code",
      "source": [
        "orb = cv.ORB_create(nfeatures=200)\n",
        "descriptors_list = []\n",
        "\n",
        "for img in x_train_resized:\n",
        "  kp, des = orb.detectAndCompute(cv.cvtColor(img, cv.COLOR_RGB2GRAY), None)\n",
        "  if des is not None:\n",
        "    descriptors_list.append(des)\n",
        "\n",
        "all_desc = np.vstack(descriptors_list)\n",
        "print(\"Descriptor shape:\", all_desc.shape)\n",
        "k=200\n",
        "kmeans = KMeans(n_clusters=k)\n",
        "kmeans.fit(all_desc)"
      ],
      "metadata": {
        "id": "Ynh9yQ_TaHd6"
      },
      "execution_count": null,
      "outputs": []
    },
    {
      "cell_type": "code",
      "source": [
        "def compute_bow_histogram(image, kmeans, orb):\n",
        "    kp, des = orb.detectAndCompute(cv.cvtColor(image, cv.COLOR_RGB2GRAY), None)\n",
        "    if des is None:\n",
        "        return np.zeros(k)\n",
        "    cluster_result = kmeans.predict(des)\n",
        "    hist, _ = np.histogram(cluster_result, bins=np.arange(k + 1))\n",
        "    return hist\n",
        "\n",
        "X_train_bow = np.array([compute_bow_histogram(img, kmeans, orb) for img in x_train_resized])\n",
        "X_test_bow = np.array([compute_bow_histogram(img, kmeans, orb) for img in x_test_resized])"
      ],
      "metadata": {
        "id": "BC0j1CX4cwEb"
      },
      "execution_count": null,
      "outputs": []
    },
    {
      "cell_type": "code",
      "source": [
        "svm = SVC(kernel='linear')\n",
        "svm.fit(X_train_bow, y_train)\n",
        "y_pred = svm.predict(X_test_bow)\n",
        "\n",
        "print(\"Accuracy:\", accuracy_score(y_test, y_pred))\n",
        "print(classification_report(y_test, y_pred))"
      ],
      "metadata": {
        "id": "QYi42khGeeLJ"
      },
      "execution_count": null,
      "outputs": []
    },
    {
      "cell_type": "code",
      "source": [
        "import seaborn as sns\n",
        "import matplotlib.pyplot as plt\n",
        "from sklearn.metrics import confusion_matrix\n",
        "\n",
        "cm = confusion_matrix(y_test, y_pred)\n",
        "plt.figure(figsize=(8, 6))\n",
        "sns.heatmap(cm, annot=True, fmt='d', cmap='Blues',\n",
        "            xticklabels=[str(i) for i in range(10)],\n",
        "            yticklabels=[str(i) for i in range(10)])\n",
        "plt.title(\"Confusion Matrix (BoW + SVM)\")\n",
        "plt.xlabel(\"Predicted\")\n",
        "plt.ylabel(\"True\")\n",
        "plt.show()"
      ],
      "metadata": {
        "id": "5S5jzLlo-QhH"
      },
      "execution_count": null,
      "outputs": []
    },
    {
      "cell_type": "code",
      "source": [
        "# For a single image:\n",
        "idx = 0\n",
        "hist = compute_bow_histogram(x_train_resized[idx], kmeans, orb)\n",
        "\n",
        "plt.bar(range(len(hist)), hist)\n",
        "plt.title(f\"Histogram of Visual Words (Image {idx})\")\n",
        "plt.xlabel(\"Visual Word Index\")\n",
        "plt.ylabel(\"Frequency\")\n",
        "plt.show()"
      ],
      "metadata": {
        "id": "eNuDf6-LBYbO"
      },
      "execution_count": null,
      "outputs": []
    },
    {
      "cell_type": "code",
      "source": [
        "from sklearn.decomposition import PCA\n",
        "\n",
        "pca = PCA(n_components=2)\n",
        "X_vis = pca.fit_transform(X_test_bow)\n",
        "\n",
        "plt.scatter(X_vis[:, 0], X_vis[:, 1], c=y_test, cmap='tab10', s=15)\n",
        "plt.title(\"PCA Projection of BoW Features\")\n",
        "plt.colorbar(label=\"True Label\")\n",
        "plt.xlabel(\"PCA 1\")\n",
        "plt.ylabel(\"PCA 2\")\n",
        "plt.show()"
      ],
      "metadata": {
        "id": "ubLDsw9UBb_d"
      },
      "execution_count": null,
      "outputs": []
    },
    {
      "cell_type": "code",
      "source": [
        "from sklearn.metrics import precision_recall_fscore_support\n",
        "\n",
        "precision, recall, f1, _ = precision_recall_fscore_support(y_test, y_pred, average=None)\n",
        "\n",
        "classes = [str(i) for i in range(10)]\n",
        "x = range(len(classes))\n",
        "\n",
        "plt.figure(figsize=(10, 5))\n",
        "plt.bar(x, precision, width=0.3, label='Precision', align='center')\n",
        "plt.bar([i + 0.3 for i in x], recall, width=0.3, label='Recall', align='center')\n",
        "plt.xticks([i + 0.15 for i in x], classes)\n",
        "plt.xlabel(\"Class\")\n",
        "plt.ylabel(\"Score\")\n",
        "plt.title(\"Class-wise Precision and Recall (BoW + SVM)\")\n",
        "plt.legend()\n",
        "plt.show()"
      ],
      "metadata": {
        "id": "UUO3fcoOBaBK"
      },
      "execution_count": null,
      "outputs": []
    },
    {
      "cell_type": "code",
      "source": [
        "import torch\n",
        "import torch.nn as nn\n",
        "import torch.optim as optim\n",
        "import torchvision\n",
        "import torchvision.transforms as transforms"
      ],
      "metadata": {
        "id": "3rWD_a0Ri3lO"
      },
      "execution_count": null,
      "outputs": []
    },
    {
      "cell_type": "code",
      "source": [
        "transform = transforms.Compose([\n",
        "    transforms.Resize(224),  # VGG16 expects 224x224\n",
        "    transforms.ToTensor(),\n",
        "    transforms.Normalize((0.5, 0.5, 0.5), (0.5, 0.5, 0.5))\n",
        "])\n",
        "\n",
        "trainset = torchvision.datasets.CIFAR10(root='./data', train=True,\n",
        "                                        download=True, transform=transform)\n",
        "testset = torchvision.datasets.CIFAR10(root='./data', train=False,\n",
        "                                       download=True, transform=transform)\n",
        "\n",
        "# trainloader = torch.utils.data.DataLoader(trainset, batch_size=64, shuffle=True)\n",
        "# testloader = torch.utils.data.DataLoader(testset, batch_size=64, shuffle=False)\n",
        "\n",
        "subset_size = 5000\n",
        "trainset = torch.utils.data.Subset(trainset, range(subset_size))\n",
        "trainloader = torch.utils.data.DataLoader(trainset, batch_size=64, shuffle=True)\n",
        "\n",
        "classes = trainset.classes\n",
        "device = torch.device(\"cuda\" if torch.cuda.is_available() else \"cpu\")"
      ],
      "metadata": {
        "id": "SxtPWHUSECAt"
      },
      "execution_count": null,
      "outputs": []
    },
    {
      "cell_type": "code",
      "source": [
        "import torchvision.models as models\n",
        "\n",
        "mobilenet = models.mobilenet_v3_large(pretrained=True)\n",
        "\n",
        "# Freeze feature layers\n",
        "for param in mobilenet.features.parameters():\n",
        "    param.requires_grad = False\n",
        "\n",
        "# Replace classifier for CIFAR-10\n",
        "mobilenet.classifier[3] = nn.Sequential(\n",
        "    nn.Linear(mobilenet.classifier[3].in_features, 256),\n",
        "    nn.ReLU(),\n",
        "    nn.Dropout(0.5),\n",
        "    nn.Linear(256, 10)\n",
        ")\n",
        "\n",
        "mobilenet = mobilenet.to(device)"
      ],
      "metadata": {
        "id": "1u2WhO6kEFDb"
      },
      "execution_count": null,
      "outputs": []
    },
    {
      "cell_type": "code",
      "source": [
        "criterion = nn.CrossEntropyLoss()\n",
        "optimizer = optim.Adam(mobilenet.classifier[3].parameters(), lr=0.001)"
      ],
      "metadata": {
        "id": "xx5oMfYVEGnC"
      },
      "execution_count": null,
      "outputs": []
    },
    {
      "cell_type": "code",
      "source": [
        "num_epochs = 10\n",
        "train_acc_list = []\n",
        "\n",
        "for epoch in range(num_epochs):\n",
        "    running_loss = 0.0\n",
        "    correct, total = 0, 0\n",
        "    mobilenet.train()\n",
        "\n",
        "    print(f\"\\nEpoch {epoch+1}/{num_epochs} started...\")\n",
        "\n",
        "    for i, (images, labels) in enumerate(trainloader):\n",
        "        images, labels = images.to(device), labels.to(device)\n",
        "        optimizer.zero_grad()\n",
        "        outputs = mobilenet(images)\n",
        "        loss = criterion(outputs, labels)\n",
        "        loss.backward()\n",
        "        optimizer.step()\n",
        "\n",
        "        running_loss += loss.item()\n",
        "        _, predicted = torch.max(outputs.data, 1)\n",
        "        total += labels.size(0)\n",
        "        correct += (predicted == labels).sum().item()\n",
        "\n",
        "        # Print progress every 100 batches\n",
        "        if (i + 1) % 100 == 0 or (i + 1) == len(trainloader):\n",
        "            print(f\"  Batch {i+1}/{len(trainloader)} - Loss: {loss.item():.4f}\")\n",
        "\n",
        "    acc = correct / total\n",
        "    train_acc_list.append(acc)\n",
        "    print(f\"Epoch {epoch+1} completed — Loss: {running_loss:.3f}, Accuracy: {acc:.4f}\")"
      ],
      "metadata": {
        "id": "ElkTNVIGEIhg"
      },
      "execution_count": null,
      "outputs": []
    },
    {
      "cell_type": "code",
      "source": [
        "mobilenet.eval()\n",
        "all_preds, all_labels = [], []\n",
        "\n",
        "with torch.no_grad():\n",
        "    for images, labels in testloader:\n",
        "        images = images.to(device)\n",
        "        outputs = mobilenet(images)\n",
        "        _, preds = torch.max(outputs, 1)\n",
        "        all_preds.extend(preds.cpu().numpy())\n",
        "        all_labels.extend(labels.numpy())\n",
        "\n",
        "from sklearn.metrics import classification_report, confusion_matrix, accuracy_score\n",
        "\n",
        "print(\"Test Accuracy:\", accuracy_score(all_labels, all_preds))\n",
        "print(classification_report(all_labels, all_preds, target_names=classes))\n",
        "\n",
        "cm = confusion_matrix(all_labels, all_preds)\n",
        "plt.figure(figsize=(8, 6))\n",
        "sns.heatmap(cm, annot=True, fmt='d', cmap='Blues', xticklabels=classes, yticklabels=classes)\n",
        "plt.title('Confusion Matrix - MobileNetV3 Large')\n",
        "plt.xlabel('Predicted')\n",
        "plt.ylabel('True')\n",
        "plt.show()"
      ],
      "metadata": {
        "id": "hEjS3NL7EJ8B"
      },
      "execution_count": null,
      "outputs": []
    }
  ]
}